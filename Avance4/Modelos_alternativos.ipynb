{
  "nbformat": 4,
  "nbformat_minor": 0,
  "metadata": {
    "colab": {
      "provenance": [],
      "authorship_tag": "ABX9TyM1jUBLJ6NR/DHY7Mi71B2u",
      "include_colab_link": true
    },
    "kernelspec": {
      "name": "python3",
      "display_name": "Python 3"
    },
    "language_info": {
      "name": "python"
    }
  },
  "cells": [
    {
      "cell_type": "markdown",
      "metadata": {
        "id": "view-in-github",
        "colab_type": "text"
      },
      "source": [
        "<a href=\"https://colab.research.google.com/github/cardonasebastian/MNA_PROYECTO/blob/main/Avance4/Modelos_alternativos.ipynb\" target=\"_parent\"><img src=\"https://colab.research.google.com/assets/colab-badge.svg\" alt=\"Open In Colab\"/></a>"
      ]
    },
    {
      "cell_type": "markdown",
      "source": [
        "# INSTITUTO TECNOLÓGICO DE ESTUDIOS SUPERIORES DE MONTERREY\n",
        "\n",
        "# Maestría en Inteligencia Artificial Aplicada\n",
        "\n",
        "# TC5035.10 Proyecto Integrador:\n",
        "\n",
        "# Optimización Estratégica de la Seguridad Vial: Implementación de un Modelo de Clasificación Avanzado para la Evaluación y Mejora de Hábitos de Conducción\n",
        "\n",
        "\n",
        "#Fase 4.\n",
        "# Avance 4. Modelos Alternativos\n",
        "\n",
        "#A01687530 - Fernando Sebastian Sanchez Cardona\n",
        "#A01793670 - Bryan Alvarado Cruz\n",
        "# A01793832 - Fernando Anaya Delgado"
      ],
      "metadata": {
        "id": "FQ8HLWCQafIf"
      }
    },
    {
      "cell_type": "markdown",
      "source": [
        "# Lee los datos safely Gold"
      ],
      "metadata": {
        "id": "DViQPy8GvivA"
      }
    },
    {
      "cell_type": "code",
      "source": [
        "from google.colab import drive\n",
        "drive.mount('/content/drive')"
      ],
      "metadata": {
        "colab": {
          "base_uri": "https://localhost:8080/"
        },
        "id": "uEgLG_OUvpRV",
        "outputId": "87a8143a-80fc-4216-b19f-f269994c2af2"
      },
      "execution_count": 1,
      "outputs": [
        {
          "output_type": "stream",
          "name": "stdout",
          "text": [
            "Mounted at /content/drive\n"
          ]
        }
      ]
    },
    {
      "cell_type": "code",
      "source": [
        "import pandas as pd\n",
        "file_path = '/content/drive/My Drive/MNA_PI/Gold/safety.csv'\n",
        "df_safety = pd.read_csv(file_path)\n",
        "df_safety"
      ],
      "metadata": {
        "colab": {
          "base_uri": "https://localhost:8080/",
          "height": 423
        },
        "id": "hDbR1pcYvrqv",
        "outputId": "a4d31169-6391-46f8-a462-e6d29bfe5efe"
      },
      "execution_count": 6,
      "outputs": [
        {
          "output_type": "execute_result",
          "data": {
            "text/plain": [
              "                                 unique_id        date  name  maxSpeed  \\\n",
              "0     74606d62-df5f-4cf4-9ba5-262c1c64731f  2024-05-17     1       112   \n",
              "1     5414fa29-5a8b-402e-ba0c-65877396a103  2024-05-17  2021       114   \n",
              "2     02b64477-38b6-47d4-ab22-fe50d5253175  2024-05-17  2022       112   \n",
              "3     23ef12be-25c4-43cf-9489-5b2345fe415a  2024-05-17  2023        12   \n",
              "4     64adf191-c891-43d9-9ba0-3819652e285f  2024-05-17  2024        10   \n",
              "...                                    ...         ...   ...       ...   \n",
              "4337  4635d0c2-affb-4a62-bc95-5e92560034c0  2024-04-27  2212       122   \n",
              "4338  1568b4e9-172e-49e7-a12c-d3f964213804  2024-04-27  2213         0   \n",
              "4339  b75f5269-c9b8-41ce-b8c5-1764e18b5be7  2024-04-27  2214       116   \n",
              "4340  ebbec643-0dbd-4350-903e-e197e7c81284  2024-04-27  2215       118   \n",
              "4341  83471889-5640-43f4-9a63-d872b5ebd6b6  2024-04-27  2216       116   \n",
              "\n",
              "      hard_acceleration  harsh_braking  harsh_cornering  seat_belt  speeding  \\\n",
              "0                     0              0                0          0         0   \n",
              "1                     0              0                0          0         0   \n",
              "2                     0              1                0          0         0   \n",
              "3                     0              0                0          0         2   \n",
              "4                     0              0                0          0         0   \n",
              "...                 ...            ...              ...        ...       ...   \n",
              "4337                  0             12                2          7        40   \n",
              "4338                  0              0                0          0         0   \n",
              "4339                  0              0                0          0         0   \n",
              "4340                  0              2                0          0         2   \n",
              "4341                  0             22                0          4         0   \n",
              "\n",
              "      excessive_speeding  \n",
              "0                      0  \n",
              "1                      0  \n",
              "2                      0  \n",
              "3                      0  \n",
              "4                      0  \n",
              "...                  ...  \n",
              "4337                   3  \n",
              "4338                   0  \n",
              "4339                   0  \n",
              "4340                   0  \n",
              "4341                   0  \n",
              "\n",
              "[4342 rows x 10 columns]"
            ],
            "text/html": [
              "\n",
              "  <div id=\"df-da979de2-0912-429d-a997-53db1d77536d\" class=\"colab-df-container\">\n",
              "    <div>\n",
              "<style scoped>\n",
              "    .dataframe tbody tr th:only-of-type {\n",
              "        vertical-align: middle;\n",
              "    }\n",
              "\n",
              "    .dataframe tbody tr th {\n",
              "        vertical-align: top;\n",
              "    }\n",
              "\n",
              "    .dataframe thead th {\n",
              "        text-align: right;\n",
              "    }\n",
              "</style>\n",
              "<table border=\"1\" class=\"dataframe\">\n",
              "  <thead>\n",
              "    <tr style=\"text-align: right;\">\n",
              "      <th></th>\n",
              "      <th>unique_id</th>\n",
              "      <th>date</th>\n",
              "      <th>name</th>\n",
              "      <th>maxSpeed</th>\n",
              "      <th>hard_acceleration</th>\n",
              "      <th>harsh_braking</th>\n",
              "      <th>harsh_cornering</th>\n",
              "      <th>seat_belt</th>\n",
              "      <th>speeding</th>\n",
              "      <th>excessive_speeding</th>\n",
              "    </tr>\n",
              "  </thead>\n",
              "  <tbody>\n",
              "    <tr>\n",
              "      <th>0</th>\n",
              "      <td>74606d62-df5f-4cf4-9ba5-262c1c64731f</td>\n",
              "      <td>2024-05-17</td>\n",
              "      <td>1</td>\n",
              "      <td>112</td>\n",
              "      <td>0</td>\n",
              "      <td>0</td>\n",
              "      <td>0</td>\n",
              "      <td>0</td>\n",
              "      <td>0</td>\n",
              "      <td>0</td>\n",
              "    </tr>\n",
              "    <tr>\n",
              "      <th>1</th>\n",
              "      <td>5414fa29-5a8b-402e-ba0c-65877396a103</td>\n",
              "      <td>2024-05-17</td>\n",
              "      <td>2021</td>\n",
              "      <td>114</td>\n",
              "      <td>0</td>\n",
              "      <td>0</td>\n",
              "      <td>0</td>\n",
              "      <td>0</td>\n",
              "      <td>0</td>\n",
              "      <td>0</td>\n",
              "    </tr>\n",
              "    <tr>\n",
              "      <th>2</th>\n",
              "      <td>02b64477-38b6-47d4-ab22-fe50d5253175</td>\n",
              "      <td>2024-05-17</td>\n",
              "      <td>2022</td>\n",
              "      <td>112</td>\n",
              "      <td>0</td>\n",
              "      <td>1</td>\n",
              "      <td>0</td>\n",
              "      <td>0</td>\n",
              "      <td>0</td>\n",
              "      <td>0</td>\n",
              "    </tr>\n",
              "    <tr>\n",
              "      <th>3</th>\n",
              "      <td>23ef12be-25c4-43cf-9489-5b2345fe415a</td>\n",
              "      <td>2024-05-17</td>\n",
              "      <td>2023</td>\n",
              "      <td>12</td>\n",
              "      <td>0</td>\n",
              "      <td>0</td>\n",
              "      <td>0</td>\n",
              "      <td>0</td>\n",
              "      <td>2</td>\n",
              "      <td>0</td>\n",
              "    </tr>\n",
              "    <tr>\n",
              "      <th>4</th>\n",
              "      <td>64adf191-c891-43d9-9ba0-3819652e285f</td>\n",
              "      <td>2024-05-17</td>\n",
              "      <td>2024</td>\n",
              "      <td>10</td>\n",
              "      <td>0</td>\n",
              "      <td>0</td>\n",
              "      <td>0</td>\n",
              "      <td>0</td>\n",
              "      <td>0</td>\n",
              "      <td>0</td>\n",
              "    </tr>\n",
              "    <tr>\n",
              "      <th>...</th>\n",
              "      <td>...</td>\n",
              "      <td>...</td>\n",
              "      <td>...</td>\n",
              "      <td>...</td>\n",
              "      <td>...</td>\n",
              "      <td>...</td>\n",
              "      <td>...</td>\n",
              "      <td>...</td>\n",
              "      <td>...</td>\n",
              "      <td>...</td>\n",
              "    </tr>\n",
              "    <tr>\n",
              "      <th>4337</th>\n",
              "      <td>4635d0c2-affb-4a62-bc95-5e92560034c0</td>\n",
              "      <td>2024-04-27</td>\n",
              "      <td>2212</td>\n",
              "      <td>122</td>\n",
              "      <td>0</td>\n",
              "      <td>12</td>\n",
              "      <td>2</td>\n",
              "      <td>7</td>\n",
              "      <td>40</td>\n",
              "      <td>3</td>\n",
              "    </tr>\n",
              "    <tr>\n",
              "      <th>4338</th>\n",
              "      <td>1568b4e9-172e-49e7-a12c-d3f964213804</td>\n",
              "      <td>2024-04-27</td>\n",
              "      <td>2213</td>\n",
              "      <td>0</td>\n",
              "      <td>0</td>\n",
              "      <td>0</td>\n",
              "      <td>0</td>\n",
              "      <td>0</td>\n",
              "      <td>0</td>\n",
              "      <td>0</td>\n",
              "    </tr>\n",
              "    <tr>\n",
              "      <th>4339</th>\n",
              "      <td>b75f5269-c9b8-41ce-b8c5-1764e18b5be7</td>\n",
              "      <td>2024-04-27</td>\n",
              "      <td>2214</td>\n",
              "      <td>116</td>\n",
              "      <td>0</td>\n",
              "      <td>0</td>\n",
              "      <td>0</td>\n",
              "      <td>0</td>\n",
              "      <td>0</td>\n",
              "      <td>0</td>\n",
              "    </tr>\n",
              "    <tr>\n",
              "      <th>4340</th>\n",
              "      <td>ebbec643-0dbd-4350-903e-e197e7c81284</td>\n",
              "      <td>2024-04-27</td>\n",
              "      <td>2215</td>\n",
              "      <td>118</td>\n",
              "      <td>0</td>\n",
              "      <td>2</td>\n",
              "      <td>0</td>\n",
              "      <td>0</td>\n",
              "      <td>2</td>\n",
              "      <td>0</td>\n",
              "    </tr>\n",
              "    <tr>\n",
              "      <th>4341</th>\n",
              "      <td>83471889-5640-43f4-9a63-d872b5ebd6b6</td>\n",
              "      <td>2024-04-27</td>\n",
              "      <td>2216</td>\n",
              "      <td>116</td>\n",
              "      <td>0</td>\n",
              "      <td>22</td>\n",
              "      <td>0</td>\n",
              "      <td>4</td>\n",
              "      <td>0</td>\n",
              "      <td>0</td>\n",
              "    </tr>\n",
              "  </tbody>\n",
              "</table>\n",
              "<p>4342 rows × 10 columns</p>\n",
              "</div>\n",
              "    <div class=\"colab-df-buttons\">\n",
              "\n",
              "  <div class=\"colab-df-container\">\n",
              "    <button class=\"colab-df-convert\" onclick=\"convertToInteractive('df-da979de2-0912-429d-a997-53db1d77536d')\"\n",
              "            title=\"Convert this dataframe to an interactive table.\"\n",
              "            style=\"display:none;\">\n",
              "\n",
              "  <svg xmlns=\"http://www.w3.org/2000/svg\" height=\"24px\" viewBox=\"0 -960 960 960\">\n",
              "    <path d=\"M120-120v-720h720v720H120Zm60-500h600v-160H180v160Zm220 220h160v-160H400v160Zm0 220h160v-160H400v160ZM180-400h160v-160H180v160Zm440 0h160v-160H620v160ZM180-180h160v-160H180v160Zm440 0h160v-160H620v160Z\"/>\n",
              "  </svg>\n",
              "    </button>\n",
              "\n",
              "  <style>\n",
              "    .colab-df-container {\n",
              "      display:flex;\n",
              "      gap: 12px;\n",
              "    }\n",
              "\n",
              "    .colab-df-convert {\n",
              "      background-color: #E8F0FE;\n",
              "      border: none;\n",
              "      border-radius: 50%;\n",
              "      cursor: pointer;\n",
              "      display: none;\n",
              "      fill: #1967D2;\n",
              "      height: 32px;\n",
              "      padding: 0 0 0 0;\n",
              "      width: 32px;\n",
              "    }\n",
              "\n",
              "    .colab-df-convert:hover {\n",
              "      background-color: #E2EBFA;\n",
              "      box-shadow: 0px 1px 2px rgba(60, 64, 67, 0.3), 0px 1px 3px 1px rgba(60, 64, 67, 0.15);\n",
              "      fill: #174EA6;\n",
              "    }\n",
              "\n",
              "    .colab-df-buttons div {\n",
              "      margin-bottom: 4px;\n",
              "    }\n",
              "\n",
              "    [theme=dark] .colab-df-convert {\n",
              "      background-color: #3B4455;\n",
              "      fill: #D2E3FC;\n",
              "    }\n",
              "\n",
              "    [theme=dark] .colab-df-convert:hover {\n",
              "      background-color: #434B5C;\n",
              "      box-shadow: 0px 1px 3px 1px rgba(0, 0, 0, 0.15);\n",
              "      filter: drop-shadow(0px 1px 2px rgba(0, 0, 0, 0.3));\n",
              "      fill: #FFFFFF;\n",
              "    }\n",
              "  </style>\n",
              "\n",
              "    <script>\n",
              "      const buttonEl =\n",
              "        document.querySelector('#df-da979de2-0912-429d-a997-53db1d77536d button.colab-df-convert');\n",
              "      buttonEl.style.display =\n",
              "        google.colab.kernel.accessAllowed ? 'block' : 'none';\n",
              "\n",
              "      async function convertToInteractive(key) {\n",
              "        const element = document.querySelector('#df-da979de2-0912-429d-a997-53db1d77536d');\n",
              "        const dataTable =\n",
              "          await google.colab.kernel.invokeFunction('convertToInteractive',\n",
              "                                                    [key], {});\n",
              "        if (!dataTable) return;\n",
              "\n",
              "        const docLinkHtml = 'Like what you see? Visit the ' +\n",
              "          '<a target=\"_blank\" href=https://colab.research.google.com/notebooks/data_table.ipynb>data table notebook</a>'\n",
              "          + ' to learn more about interactive tables.';\n",
              "        element.innerHTML = '';\n",
              "        dataTable['output_type'] = 'display_data';\n",
              "        await google.colab.output.renderOutput(dataTable, element);\n",
              "        const docLink = document.createElement('div');\n",
              "        docLink.innerHTML = docLinkHtml;\n",
              "        element.appendChild(docLink);\n",
              "      }\n",
              "    </script>\n",
              "  </div>\n",
              "\n",
              "\n",
              "<div id=\"df-aa8cafb3-beaf-47a5-a04b-15daed83dea8\">\n",
              "  <button class=\"colab-df-quickchart\" onclick=\"quickchart('df-aa8cafb3-beaf-47a5-a04b-15daed83dea8')\"\n",
              "            title=\"Suggest charts\"\n",
              "            style=\"display:none;\">\n",
              "\n",
              "<svg xmlns=\"http://www.w3.org/2000/svg\" height=\"24px\"viewBox=\"0 0 24 24\"\n",
              "     width=\"24px\">\n",
              "    <g>\n",
              "        <path d=\"M19 3H5c-1.1 0-2 .9-2 2v14c0 1.1.9 2 2 2h14c1.1 0 2-.9 2-2V5c0-1.1-.9-2-2-2zM9 17H7v-7h2v7zm4 0h-2V7h2v10zm4 0h-2v-4h2v4z\"/>\n",
              "    </g>\n",
              "</svg>\n",
              "  </button>\n",
              "\n",
              "<style>\n",
              "  .colab-df-quickchart {\n",
              "      --bg-color: #E8F0FE;\n",
              "      --fill-color: #1967D2;\n",
              "      --hover-bg-color: #E2EBFA;\n",
              "      --hover-fill-color: #174EA6;\n",
              "      --disabled-fill-color: #AAA;\n",
              "      --disabled-bg-color: #DDD;\n",
              "  }\n",
              "\n",
              "  [theme=dark] .colab-df-quickchart {\n",
              "      --bg-color: #3B4455;\n",
              "      --fill-color: #D2E3FC;\n",
              "      --hover-bg-color: #434B5C;\n",
              "      --hover-fill-color: #FFFFFF;\n",
              "      --disabled-bg-color: #3B4455;\n",
              "      --disabled-fill-color: #666;\n",
              "  }\n",
              "\n",
              "  .colab-df-quickchart {\n",
              "    background-color: var(--bg-color);\n",
              "    border: none;\n",
              "    border-radius: 50%;\n",
              "    cursor: pointer;\n",
              "    display: none;\n",
              "    fill: var(--fill-color);\n",
              "    height: 32px;\n",
              "    padding: 0;\n",
              "    width: 32px;\n",
              "  }\n",
              "\n",
              "  .colab-df-quickchart:hover {\n",
              "    background-color: var(--hover-bg-color);\n",
              "    box-shadow: 0 1px 2px rgba(60, 64, 67, 0.3), 0 1px 3px 1px rgba(60, 64, 67, 0.15);\n",
              "    fill: var(--button-hover-fill-color);\n",
              "  }\n",
              "\n",
              "  .colab-df-quickchart-complete:disabled,\n",
              "  .colab-df-quickchart-complete:disabled:hover {\n",
              "    background-color: var(--disabled-bg-color);\n",
              "    fill: var(--disabled-fill-color);\n",
              "    box-shadow: none;\n",
              "  }\n",
              "\n",
              "  .colab-df-spinner {\n",
              "    border: 2px solid var(--fill-color);\n",
              "    border-color: transparent;\n",
              "    border-bottom-color: var(--fill-color);\n",
              "    animation:\n",
              "      spin 1s steps(1) infinite;\n",
              "  }\n",
              "\n",
              "  @keyframes spin {\n",
              "    0% {\n",
              "      border-color: transparent;\n",
              "      border-bottom-color: var(--fill-color);\n",
              "      border-left-color: var(--fill-color);\n",
              "    }\n",
              "    20% {\n",
              "      border-color: transparent;\n",
              "      border-left-color: var(--fill-color);\n",
              "      border-top-color: var(--fill-color);\n",
              "    }\n",
              "    30% {\n",
              "      border-color: transparent;\n",
              "      border-left-color: var(--fill-color);\n",
              "      border-top-color: var(--fill-color);\n",
              "      border-right-color: var(--fill-color);\n",
              "    }\n",
              "    40% {\n",
              "      border-color: transparent;\n",
              "      border-right-color: var(--fill-color);\n",
              "      border-top-color: var(--fill-color);\n",
              "    }\n",
              "    60% {\n",
              "      border-color: transparent;\n",
              "      border-right-color: var(--fill-color);\n",
              "    }\n",
              "    80% {\n",
              "      border-color: transparent;\n",
              "      border-right-color: var(--fill-color);\n",
              "      border-bottom-color: var(--fill-color);\n",
              "    }\n",
              "    90% {\n",
              "      border-color: transparent;\n",
              "      border-bottom-color: var(--fill-color);\n",
              "    }\n",
              "  }\n",
              "</style>\n",
              "\n",
              "  <script>\n",
              "    async function quickchart(key) {\n",
              "      const quickchartButtonEl =\n",
              "        document.querySelector('#' + key + ' button');\n",
              "      quickchartButtonEl.disabled = true;  // To prevent multiple clicks.\n",
              "      quickchartButtonEl.classList.add('colab-df-spinner');\n",
              "      try {\n",
              "        const charts = await google.colab.kernel.invokeFunction(\n",
              "            'suggestCharts', [key], {});\n",
              "      } catch (error) {\n",
              "        console.error('Error during call to suggestCharts:', error);\n",
              "      }\n",
              "      quickchartButtonEl.classList.remove('colab-df-spinner');\n",
              "      quickchartButtonEl.classList.add('colab-df-quickchart-complete');\n",
              "    }\n",
              "    (() => {\n",
              "      let quickchartButtonEl =\n",
              "        document.querySelector('#df-aa8cafb3-beaf-47a5-a04b-15daed83dea8 button');\n",
              "      quickchartButtonEl.style.display =\n",
              "        google.colab.kernel.accessAllowed ? 'block' : 'none';\n",
              "    })();\n",
              "  </script>\n",
              "</div>\n",
              "\n",
              "  <div id=\"id_1dd82f2d-d9e3-4b4e-af83-90f117b2e788\">\n",
              "    <style>\n",
              "      .colab-df-generate {\n",
              "        background-color: #E8F0FE;\n",
              "        border: none;\n",
              "        border-radius: 50%;\n",
              "        cursor: pointer;\n",
              "        display: none;\n",
              "        fill: #1967D2;\n",
              "        height: 32px;\n",
              "        padding: 0 0 0 0;\n",
              "        width: 32px;\n",
              "      }\n",
              "\n",
              "      .colab-df-generate:hover {\n",
              "        background-color: #E2EBFA;\n",
              "        box-shadow: 0px 1px 2px rgba(60, 64, 67, 0.3), 0px 1px 3px 1px rgba(60, 64, 67, 0.15);\n",
              "        fill: #174EA6;\n",
              "      }\n",
              "\n",
              "      [theme=dark] .colab-df-generate {\n",
              "        background-color: #3B4455;\n",
              "        fill: #D2E3FC;\n",
              "      }\n",
              "\n",
              "      [theme=dark] .colab-df-generate:hover {\n",
              "        background-color: #434B5C;\n",
              "        box-shadow: 0px 1px 3px 1px rgba(0, 0, 0, 0.15);\n",
              "        filter: drop-shadow(0px 1px 2px rgba(0, 0, 0, 0.3));\n",
              "        fill: #FFFFFF;\n",
              "      }\n",
              "    </style>\n",
              "    <button class=\"colab-df-generate\" onclick=\"generateWithVariable('df_safety')\"\n",
              "            title=\"Generate code using this dataframe.\"\n",
              "            style=\"display:none;\">\n",
              "\n",
              "  <svg xmlns=\"http://www.w3.org/2000/svg\" height=\"24px\"viewBox=\"0 0 24 24\"\n",
              "       width=\"24px\">\n",
              "    <path d=\"M7,19H8.4L18.45,9,17,7.55,7,17.6ZM5,21V16.75L18.45,3.32a2,2,0,0,1,2.83,0l1.4,1.43a1.91,1.91,0,0,1,.58,1.4,1.91,1.91,0,0,1-.58,1.4L9.25,21ZM18.45,9,17,7.55Zm-12,3A5.31,5.31,0,0,0,4.9,8.1,5.31,5.31,0,0,0,1,6.5,5.31,5.31,0,0,0,4.9,4.9,5.31,5.31,0,0,0,6.5,1,5.31,5.31,0,0,0,8.1,4.9,5.31,5.31,0,0,0,12,6.5,5.46,5.46,0,0,0,6.5,12Z\"/>\n",
              "  </svg>\n",
              "    </button>\n",
              "    <script>\n",
              "      (() => {\n",
              "      const buttonEl =\n",
              "        document.querySelector('#id_1dd82f2d-d9e3-4b4e-af83-90f117b2e788 button.colab-df-generate');\n",
              "      buttonEl.style.display =\n",
              "        google.colab.kernel.accessAllowed ? 'block' : 'none';\n",
              "\n",
              "      buttonEl.onclick = () => {\n",
              "        google.colab.notebook.generateWithVariable('df_safety');\n",
              "      }\n",
              "      })();\n",
              "    </script>\n",
              "  </div>\n",
              "\n",
              "    </div>\n",
              "  </div>\n"
            ],
            "application/vnd.google.colaboratory.intrinsic+json": {
              "type": "dataframe",
              "variable_name": "df_safety",
              "summary": "{\n  \"name\": \"df_safety\",\n  \"rows\": 4342,\n  \"fields\": [\n    {\n      \"column\": \"unique_id\",\n      \"properties\": {\n        \"dtype\": \"string\",\n        \"num_unique_values\": 4342,\n        \"samples\": [\n          \"c642484a-458a-44fc-99ff-9330c660a9a6\",\n          \"b5fe6c48-9e7c-4c75-b8b0-22e7fa3e8662\",\n          \"2d373ff9-ec48-4f5f-87b3-4ef76e8c51b9\"\n        ],\n        \"semantic_type\": \"\",\n        \"description\": \"\"\n      }\n    },\n    {\n      \"column\": \"date\",\n      \"properties\": {\n        \"dtype\": \"object\",\n        \"num_unique_values\": 28,\n        \"samples\": [\n          \"2024-05-06\",\n          \"2024-04-30\",\n          \"2024-05-07\"\n        ],\n        \"semantic_type\": \"\",\n        \"description\": \"\"\n      }\n    },\n    {\n      \"column\": \"name\",\n      \"properties\": {\n        \"dtype\": \"number\",\n        \"std\": 176,\n        \"min\": 1,\n        \"max\": 2216,\n        \"num_unique_values\": 155,\n        \"samples\": [\n          2101,\n          2196,\n          2051\n        ],\n        \"semantic_type\": \"\",\n        \"description\": \"\"\n      }\n    },\n    {\n      \"column\": \"maxSpeed\",\n      \"properties\": {\n        \"dtype\": \"number\",\n        \"std\": 51,\n        \"min\": 0,\n        \"max\": 153,\n        \"num_unique_values\": 85,\n        \"samples\": [\n          53,\n          112,\n          11\n        ],\n        \"semantic_type\": \"\",\n        \"description\": \"\"\n      }\n    },\n    {\n      \"column\": \"hard_acceleration\",\n      \"properties\": {\n        \"dtype\": \"number\",\n        \"std\": 4,\n        \"min\": 0,\n        \"max\": 80,\n        \"num_unique_values\": 44,\n        \"samples\": [\n          12,\n          15,\n          26\n        ],\n        \"semantic_type\": \"\",\n        \"description\": \"\"\n      }\n    },\n    {\n      \"column\": \"harsh_braking\",\n      \"properties\": {\n        \"dtype\": \"number\",\n        \"std\": 5,\n        \"min\": 0,\n        \"max\": 84,\n        \"num_unique_values\": 50,\n        \"samples\": [\n          15,\n          50,\n          74\n        ],\n        \"semantic_type\": \"\",\n        \"description\": \"\"\n      }\n    },\n    {\n      \"column\": \"harsh_cornering\",\n      \"properties\": {\n        \"dtype\": \"number\",\n        \"std\": 0,\n        \"min\": 0,\n        \"max\": 24,\n        \"num_unique_values\": 15,\n        \"samples\": [\n          14,\n          8,\n          0\n        ],\n        \"semantic_type\": \"\",\n        \"description\": \"\"\n      }\n    },\n    {\n      \"column\": \"seat_belt\",\n      \"properties\": {\n        \"dtype\": \"number\",\n        \"std\": 2,\n        \"min\": 0,\n        \"max\": 58,\n        \"num_unique_values\": 30,\n        \"samples\": [\n          16,\n          14,\n          28\n        ],\n        \"semantic_type\": \"\",\n        \"description\": \"\"\n      }\n    },\n    {\n      \"column\": \"speeding\",\n      \"properties\": {\n        \"dtype\": \"number\",\n        \"std\": 13,\n        \"min\": 0,\n        \"max\": 131,\n        \"num_unique_values\": 82,\n        \"samples\": [\n          24,\n          0,\n          18\n        ],\n        \"semantic_type\": \"\",\n        \"description\": \"\"\n      }\n    },\n    {\n      \"column\": \"excessive_speeding\",\n      \"properties\": {\n        \"dtype\": \"number\",\n        \"std\": 4,\n        \"min\": 0,\n        \"max\": 75,\n        \"num_unique_values\": 46,\n        \"samples\": [\n          22,\n          29,\n          12\n        ],\n        \"semantic_type\": \"\",\n        \"description\": \"\"\n      }\n    }\n  ]\n}"
            }
          },
          "metadata": {},
          "execution_count": 6
        }
      ]
    },
    {
      "cell_type": "markdown",
      "source": [
        "# Tomando en cuenta el script anterior de BaseLine"
      ],
      "metadata": {
        "id": "qlCdtW5bzKvP"
      }
    },
    {
      "cell_type": "markdown",
      "source": [
        "### Se importan las librerias"
      ],
      "metadata": {
        "id": "c5xMYv85zRCR"
      }
    },
    {
      "cell_type": "code",
      "source": [
        "# Importar las bibliotecas necesarias\n",
        "import pandas as pd\n",
        "from sklearn.model_selection import train_test_split, GridSearchCV\n",
        "from sklearn.preprocessing import StandardScaler\n",
        "from sklearn.linear_model import LogisticRegression\n",
        "from sklearn.tree import DecisionTreeClassifier\n",
        "from sklearn.ensemble import RandomForestClassifier\n",
        "from sklearn.svm import SVC\n",
        "from sklearn.neighbors import KNeighborsClassifier\n",
        "from sklearn.naive_bayes import GaussianNB\n",
        "from sklearn.neural_network import MLPClassifier\n",
        "from xgboost import XGBClassifier\n",
        "from sklearn.metrics import accuracy_score, f1_score"
      ],
      "metadata": {
        "id": "ZJFgg4-ZzVDm"
      },
      "execution_count": 7,
      "outputs": []
    },
    {
      "cell_type": "markdown",
      "source": [
        "### Se carga el dataset y se limpia"
      ],
      "metadata": {
        "id": "s9Gf3kAZzVjZ"
      }
    },
    {
      "cell_type": "code",
      "source": [
        "\n",
        "\n",
        "# Cargar el dataset\n",
        "df = df_safety\n",
        "# Eliminar columnas innecesarias\n",
        "df_limpio = df.drop(columns=['unique_id', 'date', 'name'])\n",
        "\n",
        "# Crear una variable de riesgo basada en comportamientos de conducción\n",
        "df_limpio['puntuacion_riesgo'] = df_limpio[['hard_acceleration', 'harsh_braking', 'harsh_cornering', 'seat_belt', 'speeding', 'excessive_speeding']].sum(axis=1)\n",
        "\n"
      ],
      "metadata": {
        "id": "OXVPUKvoxW98"
      },
      "execution_count": 8,
      "outputs": []
    },
    {
      "cell_type": "markdown",
      "source": [
        "### Se define la funcion para clasificar al conductor"
      ],
      "metadata": {
        "id": "p0QXimrWzinP"
      }
    },
    {
      "cell_type": "code",
      "source": [
        "# Definir la variable objetivo basada en la puntuación de riesgo\n",
        "def clasificar_conductor(puntuacion_riesgo):\n",
        "    if puntuacion_riesgo == 0:\n",
        "        return 0  # Buen conductor\n",
        "    elif puntuacion_riesgo <= 3:\n",
        "        return 1  # Conductor regular\n",
        "    else:\n",
        "        return 2  # Mal conductor\n",
        "\n",
        "df_limpio['clase_conductor'] = df_limpio['puntuacion_riesgo'].apply(clasificar_conductor)\n",
        "\n",
        "# Eliminar la columna de puntuación de riesgo\n",
        "df_limpio = df_limpio.drop(columns=['puntuacion_riesgo'])\n",
        "\n"
      ],
      "metadata": {
        "id": "RdCPvCZ_zf3W"
      },
      "execution_count": 9,
      "outputs": []
    },
    {
      "cell_type": "markdown",
      "source": [
        "### Se definen caracteristicas y objetivos"
      ],
      "metadata": {
        "id": "9kIHsd3AzrU1"
      }
    },
    {
      "cell_type": "code",
      "source": [
        "# Definir características y objetivo\n",
        "X = df_limpio.drop(columns=['clase_conductor'])\n",
        "y = df_limpio['clase_conductor']\n",
        "\n"
      ],
      "metadata": {
        "id": "1f8Ls2CSzqXJ"
      },
      "execution_count": 10,
      "outputs": []
    },
    {
      "cell_type": "markdown",
      "source": [
        "### Se dividen los datos de prueba y validacion"
      ],
      "metadata": {
        "id": "PFtVCPe1zy7-"
      }
    },
    {
      "cell_type": "code",
      "source": [
        "# Dividir los datos en conjuntos de entrenamiento y prueba\n",
        "X_train, X_test, y_train, y_test = train_test_split(X, y, test_size=0.2, random_state=42, stratify=y)\n",
        "\n"
      ],
      "metadata": {
        "id": "Cm0IHNKkz2SG"
      },
      "execution_count": 11,
      "outputs": []
    },
    {
      "cell_type": "markdown",
      "source": [
        "### Se normalizan los datos"
      ],
      "metadata": {
        "id": "qPGN-QYAz5Ow"
      }
    },
    {
      "cell_type": "code",
      "source": [
        "# Normalizar las características numéricas\n",
        "escalador = StandardScaler()\n",
        "X_train_escalado = escalador.fit_transform(X_train)\n",
        "X_test_escalado = escalador.transform(X_test)\n",
        "\n"
      ],
      "metadata": {
        "id": "y-43j_pez78_"
      },
      "execution_count": 12,
      "outputs": []
    },
    {
      "cell_type": "markdown",
      "source": [
        "### Se definen los modelos a evaular y comparar"
      ],
      "metadata": {
        "id": "jLOmwZ06z92Z"
      }
    },
    {
      "cell_type": "code",
      "source": [
        "# Definir los modelos\n",
        "modelos = {\n",
        "    'Regresión Logística': LogisticRegression(max_iter=1000, random_state=42, multi_class='ovr'),\n",
        "    'Árbol de Decisión': DecisionTreeClassifier(random_state=42),\n",
        "    'Bosque Aleatorio': RandomForestClassifier(random_state=42),\n",
        "    'Máquina de Vectores de Soporte': SVC(random_state=42),\n",
        "    'K-Vecinos Más Cercanos': KNeighborsClassifier(),\n",
        "    'Naive Bayes': GaussianNB(),\n",
        "    'Red Neuronal': MLPClassifier(max_iter=1000, random_state=42),\n",
        "    'XGBClassifier': XGBClassifier(use_label_encoder=False, eval_metric='mlogloss', random_state=42),\n",
        "    'KNN': KNeighborsClassifier()\n",
        "}\n",
        "\n"
      ],
      "metadata": {
        "id": "vom7fF0J0Bor"
      },
      "execution_count": 13,
      "outputs": []
    },
    {
      "cell_type": "markdown",
      "source": [
        "### Se entrenan los modelos"
      ],
      "metadata": {
        "id": "XCX3R6va0H8T"
      }
    },
    {
      "cell_type": "code",
      "source": [
        "# Entrenar y evaluar los modelos\n",
        "rendimiento_modelos = {}\n",
        "\n",
        "for nombre_modelo, modelo in modelos.items():\n",
        "    modelo.fit(X_train_escalado, y_train)\n",
        "    y_pred = modelo.predict(X_test_escalado)\n",
        "    precision = accuracy_score(y_test, y_pred)\n",
        "    f1 = f1_score(y_test, y_pred, average='weighted')\n",
        "    rendimiento_modelos[nombre_modelo] = {'Precisión': precision, 'F1-Score': f1}\n",
        "\n"
      ],
      "metadata": {
        "id": "igKvUbYV0Kez"
      },
      "execution_count": 14,
      "outputs": []
    },
    {
      "cell_type": "markdown",
      "source": [
        "### Se muestran los resultados de los entrenamientos de los modelos"
      ],
      "metadata": {
        "id": "5Kw31xZj0Qw8"
      }
    },
    {
      "cell_type": "code",
      "source": [
        "# Convertir los resultados a un DataFrame para la comparación\n",
        "rendimiento_df = pd.DataFrame(rendimiento_modelos).T\n",
        "rendimiento_df = rendimiento_df.sort_values(by='F1-Score', ascending=False)\n",
        "\n",
        "print(\"Comparación del rendimiento de los modelos:\")\n",
        "print(rendimiento_df)\n",
        "\n"
      ],
      "metadata": {
        "colab": {
          "base_uri": "https://localhost:8080/"
        },
        "id": "nvYgffVi0PRz",
        "outputId": "cd0bc583-a126-45d3-dcd5-056b854a1f4d"
      },
      "execution_count": 15,
      "outputs": [
        {
          "output_type": "stream",
          "name": "stdout",
          "text": [
            "Comparación del rendimiento de los modelos:\n",
            "                                Precisión  F1-Score\n",
            "Red Neuronal                     0.998849  0.998845\n",
            "Bosque Aleatorio                 0.995397  0.995364\n",
            "XGBClassifier                    0.994246  0.994266\n",
            "Árbol de Decisión                0.988493  0.988649\n",
            "K-Vecinos Más Cercanos           0.979287  0.979079\n",
            "KNN                              0.979287  0.979079\n",
            "Máquina de Vectores de Soporte   0.959724  0.961108\n",
            "Regresión Logística              0.947066  0.945769\n",
            "Naive Bayes                      0.937860  0.945037\n"
          ]
        }
      ]
    },
    {
      "cell_type": "markdown",
      "source": [
        "### Se ajustan los hiperametros de los modelos"
      ],
      "metadata": {
        "id": "i_mhmXtG0YMX"
      }
    },
    {
      "cell_type": "code",
      "source": [
        "# Ajuste de Hiperparámetros para los Mejores Modelos\n",
        "\n",
        "# XGBClassifier\n",
        "param_grid_xgb = {\n",
        "    'n_estimators': [100, 200, 300],\n",
        "    'learning_rate': [0.01, 0.1, 0.2],\n",
        "    'max_depth': [3, 5, 7]\n",
        "}\n",
        "\n",
        "xgb = XGBClassifier(use_label_encoder=False, eval_metric='mlogloss', random_state=42)\n",
        "grid_search_xgb = GridSearchCV(estimator=xgb, param_grid=param_grid_xgb, scoring='f1_weighted', cv=5, n_jobs=-1)\n",
        "grid_search_xgb.fit(X_train_escalado, y_train)\n",
        "\n",
        "# Mejor modelo XGB\n",
        "mejor_xgb = grid_search_xgb.best_estimator_\n",
        "mejor_xgb_pred = mejor_xgb.predict(X_test_escalado)\n",
        "mejor_xgb_f1 = f1_score(y_test, mejor_xgb_pred, average='weighted')\n",
        "print(\"Mejor F1-Score para XGBClassifier:\", mejor_xgb_f1)\n",
        "\n",
        "# Bosque Aleatorio\n",
        "param_grid_rf = {\n",
        "    'n_estimators': [100, 200, 300],\n",
        "    'max_depth': [None, 10, 20, 30],\n",
        "    'min_samples_split': [2, 5, 10]\n",
        "}\n",
        "\n",
        "rf = RandomForestClassifier(random_state=42)\n",
        "grid_search_rf = GridSearchCV(estimator=rf, param_grid=param_grid_rf, scoring='f1_weighted', cv=5, n_jobs=-1)\n",
        "grid_search_rf.fit(X_train_escalado, y_train)\n",
        "\n",
        "# Mejor modelo Bosque Aleatorio\n",
        "mejor_rf = grid_search_rf.best_estimator_\n",
        "mejor_rf_pred = mejor_rf.predict(X_test_escalado)\n",
        "mejor_rf_f1 = f1_score(y_test, mejor_rf_pred, average='weighted')\n",
        "print(\"Mejor F1-Score para Bosque Aleatorio:\", mejor_rf_f1)\n",
        "\n",
        "# Selección del Modelo Final\n",
        "if mejor_xgb_f1 > mejor_rf_f1:\n",
        "    modelo_final = mejor_xgb\n",
        "    print(\"El modelo final seleccionado es XGBClassifier con un F1-Score de:\", mejor_xgb_f1)\n",
        "else:\n",
        "    modelo_final = mejor_rf\n",
        "    print(\"El modelo final seleccionado es Bosque Aleatorio con un F1-Score de:\", mejor_rf_f1)"
      ],
      "metadata": {
        "colab": {
          "base_uri": "https://localhost:8080/"
        },
        "id": "pJhfUWFJ0cXQ",
        "outputId": "c23df459-5fc9-4ae0-b7f6-3414d7ca47a6"
      },
      "execution_count": 16,
      "outputs": [
        {
          "output_type": "stream",
          "name": "stdout",
          "text": [
            "Mejor F1-Score para XGBClassifier: 0.9953639969666919\n",
            "Mejor F1-Score para Bosque Aleatorio: 0.9906595082952482\n",
            "El modelo final seleccionado es XGBClassifier con un F1-Score de: 0.9953639969666919\n"
          ]
        }
      ]
    },
    {
      "cell_type": "markdown",
      "source": [
        "# Conclusion\n",
        "\n",
        "### Después de entrenar y evaluar múltiples modelos de clasificación utilizando el dataset de comportamientos de conducción, el modelo XGBClassifier se destacó como el mejor en términos de rendimiento, específicamente en su F1-Score. Aquí se presentan las razones clave que explican por qué XGBClassifier superó a los demás modelos:\n",
        "\n",
        "##\t1.\tCapacidad para Manejar Datos No Lineales:\n",
        "###\t\tXGBClassifier es conocido por su capacidad para capturar relaciones no lineales en los datos debido a su naturaleza basada en árboles. A diferencia de modelos más simples como la Regresión Logística, XGBClassifier puede modelar interacciones complejas entre características, lo que resulta en un mejor rendimiento en datasets con estructuras intrincadas.\n",
        "##\t2.\tControl del Sobreajuste:\n",
        "###\t\tXGBClassifier incorpora técnicas avanzadas para controlar el sobreajuste, como la regularización y el uso de múltiples parámetros de ajuste.Esto permite al modelo generalizar mejor en datos no vistos, como se observó en el conjunto de prueba.\n",
        "##\t3.\tBoosting Gradual:\n",
        "###\t\tEl enfoque de boosting gradual utilizado por XGBClassifier combina múltiples árboles de decisión, donde cada árbol sucesivo corrige los errores del anterior. Esta técnica de mejora continua hace que el modelo sea muy eficaz para reducir errores y mejorar la precisión general.\n",
        "##\t4.\tFlexibilidad y Personalización:\n",
        "###\t\tXGBClassifier ofrece una amplia gama de hiperparámetros ajustables, permitiendo una personalización precisa del modelo para optimizar el rendimiento. El proceso de ajuste de hiperparámetros mediante GridSearchCV permitió encontrar la configuración óptima que maximiza el F1-Score.\n",
        "##\t5.\tManejo de Datos Desequilibrados:\n",
        "###\t\tEn problemas de clasificación con clases desbalanceadas, como el presente dataset, XGBClassifier tiene opciones para ajustar el balance de las clases mediante el parámetro scale_pos_weight, lo que ayuda a mejorar la sensibilidad del modelo hacia las clases minoritarias.\n",
        "##\t6.\tVelocidad y Eficiencia:\n",
        "###\t\tA pesar de ser un algoritmo complejo, XGBClassifier es muy eficiente en términos de tiempo de entrenamiento gracias a su implementación optimizada. Esto lo hace adecuado para datasets grandes y complejos sin sacrificar la velocidad de entrenamiento.\n",
        "\n",
        "#Comparación con Otros Modelos:\n",
        "\n",
        "###\t\tRegresión Logística: Es un modelo lineal que puede no capturar las complejidades y no linealidades del dataset. Aunque es fácil de interpretar, su rendimiento es inferior.\n",
        "###\t\tÁrbol de Decisión y K-Vecinos Más Cercanos: Pueden ser propensos al sobreajuste y no siempre manejan bien la complejidad de los datos.\n",
        "###\t\tBosque Aleatorio: También basado en árboles y robusto, pero generalmente no supera a XGBClassifier en datasets complejos debido a la falta de boosting.\n",
        "###\t\tMáquina de Vectores de Soporte: Potente en alta dimensionalidad pero puede ser más lento y menos flexible en la gestión de hiperparámetros en comparación con XGBClassifier.\n",
        "###\t\tNaive Bayes: Asume independencia entre características, lo cual rara vez es cierto en problemas reales, afectando su rendimiento.\n",
        "\n",
        "#Conclusión Final:\n",
        "\n",
        "## El modelo XGBClassifier es superior debido a su capacidad para manejar datos complejos y no lineales, su robustez contra el sobreajuste, y su flexibilidad y eficiencia en el ajuste de hiperparámetros. Estas ventajas permiten que el modelo alcance un F1-Score más alto y una mejor generalización en comparación con otros algoritmos."
      ],
      "metadata": {
        "id": "z4xm4xMz1SNX"
      }
    }
  ]
}