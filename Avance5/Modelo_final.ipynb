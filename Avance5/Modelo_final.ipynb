{
  "nbformat": 4,
  "nbformat_minor": 0,
  "metadata": {
    "colab": {
      "provenance": [],
      "authorship_tag": "ABX9TyPEKKPJa7HkllEP7z7lGKJ0",
      "include_colab_link": true
    },
    "kernelspec": {
      "name": "python3",
      "display_name": "Python 3"
    },
    "language_info": {
      "name": "python"
    }
  },
  "cells": [
    {
      "cell_type": "markdown",
      "metadata": {
        "id": "view-in-github",
        "colab_type": "text"
      },
      "source": [
        "<a href=\"https://colab.research.google.com/github/cardonasebastian/MNA_PROYECTO/blob/main/Avance5/Modelo_final.ipynb\" target=\"_parent\"><img src=\"https://colab.research.google.com/assets/colab-badge.svg\" alt=\"Open In Colab\"/></a>"
      ]
    },
    {
      "cell_type": "markdown",
      "source": [
        "# INSTITUTO TECNOLÓGICO DE ESTUDIOS SUPERIORES DE MONTERREY\n",
        "\n",
        "# Maestría en Inteligencia Artificial Aplicada\n",
        "\n",
        "# TC5035.10 Proyecto Integrador:\n",
        "\n",
        "# Optimización Estratégica de la Seguridad Vial: Implementación de un Modelo de Clasificación Avanzado para la Evaluación y Mejora de Hábitos de Conducción\n",
        "\n",
        "\n",
        "#Fase 5.\n",
        "# Avance 5. Modelo final.\n",
        "\n",
        "#A01687530 - Fernando Sebastian Sanchez Cardona\n",
        "#A01793670 - Bryan Alvarado Cruz\n",
        "# A01793832 - Fernando Anaya Delgado"
      ],
      "metadata": {
        "id": "Zo-m98JpYCJc"
      }
    },
    {
      "cell_type": "markdown",
      "source": [
        "# Lee los datos safely Gold"
      ],
      "metadata": {
        "id": "beAHbDqzYZD2"
      }
    },
    {
      "cell_type": "code",
      "source": [
        "from google.colab import drive\n",
        "drive.mount('/content/drive')"
      ],
      "metadata": {
        "colab": {
          "base_uri": "https://localhost:8080/"
        },
        "id": "LXQDMajSYc1A",
        "outputId": "a0f55dd3-81ca-4ffb-fa84-3512ff69e00e"
      },
      "execution_count": 1,
      "outputs": [
        {
          "output_type": "stream",
          "name": "stdout",
          "text": [
            "Mounted at /content/drive\n"
          ]
        }
      ]
    },
    {
      "cell_type": "code",
      "source": [
        "import pandas as pd\n",
        "file_path = '/content/drive/My Drive/MNA_PI/Gold/safety.csv'\n",
        "df_safety = pd.read_csv(file_path)\n",
        "df_safety"
      ],
      "metadata": {
        "colab": {
          "base_uri": "https://localhost:8080/",
          "height": 424
        },
        "id": "pxs4S4sEYnmk",
        "outputId": "151e8c85-8732-4370-ea7d-54516142631b"
      },
      "execution_count": 2,
      "outputs": [
        {
          "output_type": "execute_result",
          "data": {
            "text/plain": [
              "                                 unique_id        date  name  maxSpeed  \\\n",
              "0     74606d62-df5f-4cf4-9ba5-262c1c64731f  2024-05-17     1       112   \n",
              "1     5414fa29-5a8b-402e-ba0c-65877396a103  2024-05-17  2021       114   \n",
              "2     02b64477-38b6-47d4-ab22-fe50d5253175  2024-05-17  2022       112   \n",
              "3     23ef12be-25c4-43cf-9489-5b2345fe415a  2024-05-17  2023        12   \n",
              "4     64adf191-c891-43d9-9ba0-3819652e285f  2024-05-17  2024        10   \n",
              "...                                    ...         ...   ...       ...   \n",
              "4337  4635d0c2-affb-4a62-bc95-5e92560034c0  2024-04-27  2212       122   \n",
              "4338  1568b4e9-172e-49e7-a12c-d3f964213804  2024-04-27  2213         0   \n",
              "4339  b75f5269-c9b8-41ce-b8c5-1764e18b5be7  2024-04-27  2214       116   \n",
              "4340  ebbec643-0dbd-4350-903e-e197e7c81284  2024-04-27  2215       118   \n",
              "4341  83471889-5640-43f4-9a63-d872b5ebd6b6  2024-04-27  2216       116   \n",
              "\n",
              "      hard_acceleration  harsh_braking  harsh_cornering  seat_belt  speeding  \\\n",
              "0                     0              0                0          0         0   \n",
              "1                     0              0                0          0         0   \n",
              "2                     0              1                0          0         0   \n",
              "3                     0              0                0          0         2   \n",
              "4                     0              0                0          0         0   \n",
              "...                 ...            ...              ...        ...       ...   \n",
              "4337                  0             12                2          7        40   \n",
              "4338                  0              0                0          0         0   \n",
              "4339                  0              0                0          0         0   \n",
              "4340                  0              2                0          0         2   \n",
              "4341                  0             22                0          4         0   \n",
              "\n",
              "      excessive_speeding  \n",
              "0                      0  \n",
              "1                      0  \n",
              "2                      0  \n",
              "3                      0  \n",
              "4                      0  \n",
              "...                  ...  \n",
              "4337                   3  \n",
              "4338                   0  \n",
              "4339                   0  \n",
              "4340                   0  \n",
              "4341                   0  \n",
              "\n",
              "[4342 rows x 10 columns]"
            ],
            "text/html": [
              "\n",
              "  <div id=\"df-cb4bbfd1-4fe0-4757-a166-cf49c0d0fbec\" class=\"colab-df-container\">\n",
              "    <div>\n",
              "<style scoped>\n",
              "    .dataframe tbody tr th:only-of-type {\n",
              "        vertical-align: middle;\n",
              "    }\n",
              "\n",
              "    .dataframe tbody tr th {\n",
              "        vertical-align: top;\n",
              "    }\n",
              "\n",
              "    .dataframe thead th {\n",
              "        text-align: right;\n",
              "    }\n",
              "</style>\n",
              "<table border=\"1\" class=\"dataframe\">\n",
              "  <thead>\n",
              "    <tr style=\"text-align: right;\">\n",
              "      <th></th>\n",
              "      <th>unique_id</th>\n",
              "      <th>date</th>\n",
              "      <th>name</th>\n",
              "      <th>maxSpeed</th>\n",
              "      <th>hard_acceleration</th>\n",
              "      <th>harsh_braking</th>\n",
              "      <th>harsh_cornering</th>\n",
              "      <th>seat_belt</th>\n",
              "      <th>speeding</th>\n",
              "      <th>excessive_speeding</th>\n",
              "    </tr>\n",
              "  </thead>\n",
              "  <tbody>\n",
              "    <tr>\n",
              "      <th>0</th>\n",
              "      <td>74606d62-df5f-4cf4-9ba5-262c1c64731f</td>\n",
              "      <td>2024-05-17</td>\n",
              "      <td>1</td>\n",
              "      <td>112</td>\n",
              "      <td>0</td>\n",
              "      <td>0</td>\n",
              "      <td>0</td>\n",
              "      <td>0</td>\n",
              "      <td>0</td>\n",
              "      <td>0</td>\n",
              "    </tr>\n",
              "    <tr>\n",
              "      <th>1</th>\n",
              "      <td>5414fa29-5a8b-402e-ba0c-65877396a103</td>\n",
              "      <td>2024-05-17</td>\n",
              "      <td>2021</td>\n",
              "      <td>114</td>\n",
              "      <td>0</td>\n",
              "      <td>0</td>\n",
              "      <td>0</td>\n",
              "      <td>0</td>\n",
              "      <td>0</td>\n",
              "      <td>0</td>\n",
              "    </tr>\n",
              "    <tr>\n",
              "      <th>2</th>\n",
              "      <td>02b64477-38b6-47d4-ab22-fe50d5253175</td>\n",
              "      <td>2024-05-17</td>\n",
              "      <td>2022</td>\n",
              "      <td>112</td>\n",
              "      <td>0</td>\n",
              "      <td>1</td>\n",
              "      <td>0</td>\n",
              "      <td>0</td>\n",
              "      <td>0</td>\n",
              "      <td>0</td>\n",
              "    </tr>\n",
              "    <tr>\n",
              "      <th>3</th>\n",
              "      <td>23ef12be-25c4-43cf-9489-5b2345fe415a</td>\n",
              "      <td>2024-05-17</td>\n",
              "      <td>2023</td>\n",
              "      <td>12</td>\n",
              "      <td>0</td>\n",
              "      <td>0</td>\n",
              "      <td>0</td>\n",
              "      <td>0</td>\n",
              "      <td>2</td>\n",
              "      <td>0</td>\n",
              "    </tr>\n",
              "    <tr>\n",
              "      <th>4</th>\n",
              "      <td>64adf191-c891-43d9-9ba0-3819652e285f</td>\n",
              "      <td>2024-05-17</td>\n",
              "      <td>2024</td>\n",
              "      <td>10</td>\n",
              "      <td>0</td>\n",
              "      <td>0</td>\n",
              "      <td>0</td>\n",
              "      <td>0</td>\n",
              "      <td>0</td>\n",
              "      <td>0</td>\n",
              "    </tr>\n",
              "    <tr>\n",
              "      <th>...</th>\n",
              "      <td>...</td>\n",
              "      <td>...</td>\n",
              "      <td>...</td>\n",
              "      <td>...</td>\n",
              "      <td>...</td>\n",
              "      <td>...</td>\n",
              "      <td>...</td>\n",
              "      <td>...</td>\n",
              "      <td>...</td>\n",
              "      <td>...</td>\n",
              "    </tr>\n",
              "    <tr>\n",
              "      <th>4337</th>\n",
              "      <td>4635d0c2-affb-4a62-bc95-5e92560034c0</td>\n",
              "      <td>2024-04-27</td>\n",
              "      <td>2212</td>\n",
              "      <td>122</td>\n",
              "      <td>0</td>\n",
              "      <td>12</td>\n",
              "      <td>2</td>\n",
              "      <td>7</td>\n",
              "      <td>40</td>\n",
              "      <td>3</td>\n",
              "    </tr>\n",
              "    <tr>\n",
              "      <th>4338</th>\n",
              "      <td>1568b4e9-172e-49e7-a12c-d3f964213804</td>\n",
              "      <td>2024-04-27</td>\n",
              "      <td>2213</td>\n",
              "      <td>0</td>\n",
              "      <td>0</td>\n",
              "      <td>0</td>\n",
              "      <td>0</td>\n",
              "      <td>0</td>\n",
              "      <td>0</td>\n",
              "      <td>0</td>\n",
              "    </tr>\n",
              "    <tr>\n",
              "      <th>4339</th>\n",
              "      <td>b75f5269-c9b8-41ce-b8c5-1764e18b5be7</td>\n",
              "      <td>2024-04-27</td>\n",
              "      <td>2214</td>\n",
              "      <td>116</td>\n",
              "      <td>0</td>\n",
              "      <td>0</td>\n",
              "      <td>0</td>\n",
              "      <td>0</td>\n",
              "      <td>0</td>\n",
              "      <td>0</td>\n",
              "    </tr>\n",
              "    <tr>\n",
              "      <th>4340</th>\n",
              "      <td>ebbec643-0dbd-4350-903e-e197e7c81284</td>\n",
              "      <td>2024-04-27</td>\n",
              "      <td>2215</td>\n",
              "      <td>118</td>\n",
              "      <td>0</td>\n",
              "      <td>2</td>\n",
              "      <td>0</td>\n",
              "      <td>0</td>\n",
              "      <td>2</td>\n",
              "      <td>0</td>\n",
              "    </tr>\n",
              "    <tr>\n",
              "      <th>4341</th>\n",
              "      <td>83471889-5640-43f4-9a63-d872b5ebd6b6</td>\n",
              "      <td>2024-04-27</td>\n",
              "      <td>2216</td>\n",
              "      <td>116</td>\n",
              "      <td>0</td>\n",
              "      <td>22</td>\n",
              "      <td>0</td>\n",
              "      <td>4</td>\n",
              "      <td>0</td>\n",
              "      <td>0</td>\n",
              "    </tr>\n",
              "  </tbody>\n",
              "</table>\n",
              "<p>4342 rows × 10 columns</p>\n",
              "</div>\n",
              "    <div class=\"colab-df-buttons\">\n",
              "\n",
              "  <div class=\"colab-df-container\">\n",
              "    <button class=\"colab-df-convert\" onclick=\"convertToInteractive('df-cb4bbfd1-4fe0-4757-a166-cf49c0d0fbec')\"\n",
              "            title=\"Convert this dataframe to an interactive table.\"\n",
              "            style=\"display:none;\">\n",
              "\n",
              "  <svg xmlns=\"http://www.w3.org/2000/svg\" height=\"24px\" viewBox=\"0 -960 960 960\">\n",
              "    <path d=\"M120-120v-720h720v720H120Zm60-500h600v-160H180v160Zm220 220h160v-160H400v160Zm0 220h160v-160H400v160ZM180-400h160v-160H180v160Zm440 0h160v-160H620v160ZM180-180h160v-160H180v160Zm440 0h160v-160H620v160Z\"/>\n",
              "  </svg>\n",
              "    </button>\n",
              "\n",
              "  <style>\n",
              "    .colab-df-container {\n",
              "      display:flex;\n",
              "      gap: 12px;\n",
              "    }\n",
              "\n",
              "    .colab-df-convert {\n",
              "      background-color: #E8F0FE;\n",
              "      border: none;\n",
              "      border-radius: 50%;\n",
              "      cursor: pointer;\n",
              "      display: none;\n",
              "      fill: #1967D2;\n",
              "      height: 32px;\n",
              "      padding: 0 0 0 0;\n",
              "      width: 32px;\n",
              "    }\n",
              "\n",
              "    .colab-df-convert:hover {\n",
              "      background-color: #E2EBFA;\n",
              "      box-shadow: 0px 1px 2px rgba(60, 64, 67, 0.3), 0px 1px 3px 1px rgba(60, 64, 67, 0.15);\n",
              "      fill: #174EA6;\n",
              "    }\n",
              "\n",
              "    .colab-df-buttons div {\n",
              "      margin-bottom: 4px;\n",
              "    }\n",
              "\n",
              "    [theme=dark] .colab-df-convert {\n",
              "      background-color: #3B4455;\n",
              "      fill: #D2E3FC;\n",
              "    }\n",
              "\n",
              "    [theme=dark] .colab-df-convert:hover {\n",
              "      background-color: #434B5C;\n",
              "      box-shadow: 0px 1px 3px 1px rgba(0, 0, 0, 0.15);\n",
              "      filter: drop-shadow(0px 1px 2px rgba(0, 0, 0, 0.3));\n",
              "      fill: #FFFFFF;\n",
              "    }\n",
              "  </style>\n",
              "\n",
              "    <script>\n",
              "      const buttonEl =\n",
              "        document.querySelector('#df-cb4bbfd1-4fe0-4757-a166-cf49c0d0fbec button.colab-df-convert');\n",
              "      buttonEl.style.display =\n",
              "        google.colab.kernel.accessAllowed ? 'block' : 'none';\n",
              "\n",
              "      async function convertToInteractive(key) {\n",
              "        const element = document.querySelector('#df-cb4bbfd1-4fe0-4757-a166-cf49c0d0fbec');\n",
              "        const dataTable =\n",
              "          await google.colab.kernel.invokeFunction('convertToInteractive',\n",
              "                                                    [key], {});\n",
              "        if (!dataTable) return;\n",
              "\n",
              "        const docLinkHtml = 'Like what you see? Visit the ' +\n",
              "          '<a target=\"_blank\" href=https://colab.research.google.com/notebooks/data_table.ipynb>data table notebook</a>'\n",
              "          + ' to learn more about interactive tables.';\n",
              "        element.innerHTML = '';\n",
              "        dataTable['output_type'] = 'display_data';\n",
              "        await google.colab.output.renderOutput(dataTable, element);\n",
              "        const docLink = document.createElement('div');\n",
              "        docLink.innerHTML = docLinkHtml;\n",
              "        element.appendChild(docLink);\n",
              "      }\n",
              "    </script>\n",
              "  </div>\n",
              "\n",
              "\n",
              "<div id=\"df-aa494072-167a-4405-9e81-545f579caa89\">\n",
              "  <button class=\"colab-df-quickchart\" onclick=\"quickchart('df-aa494072-167a-4405-9e81-545f579caa89')\"\n",
              "            title=\"Suggest charts\"\n",
              "            style=\"display:none;\">\n",
              "\n",
              "<svg xmlns=\"http://www.w3.org/2000/svg\" height=\"24px\"viewBox=\"0 0 24 24\"\n",
              "     width=\"24px\">\n",
              "    <g>\n",
              "        <path d=\"M19 3H5c-1.1 0-2 .9-2 2v14c0 1.1.9 2 2 2h14c1.1 0 2-.9 2-2V5c0-1.1-.9-2-2-2zM9 17H7v-7h2v7zm4 0h-2V7h2v10zm4 0h-2v-4h2v4z\"/>\n",
              "    </g>\n",
              "</svg>\n",
              "  </button>\n",
              "\n",
              "<style>\n",
              "  .colab-df-quickchart {\n",
              "      --bg-color: #E8F0FE;\n",
              "      --fill-color: #1967D2;\n",
              "      --hover-bg-color: #E2EBFA;\n",
              "      --hover-fill-color: #174EA6;\n",
              "      --disabled-fill-color: #AAA;\n",
              "      --disabled-bg-color: #DDD;\n",
              "  }\n",
              "\n",
              "  [theme=dark] .colab-df-quickchart {\n",
              "      --bg-color: #3B4455;\n",
              "      --fill-color: #D2E3FC;\n",
              "      --hover-bg-color: #434B5C;\n",
              "      --hover-fill-color: #FFFFFF;\n",
              "      --disabled-bg-color: #3B4455;\n",
              "      --disabled-fill-color: #666;\n",
              "  }\n",
              "\n",
              "  .colab-df-quickchart {\n",
              "    background-color: var(--bg-color);\n",
              "    border: none;\n",
              "    border-radius: 50%;\n",
              "    cursor: pointer;\n",
              "    display: none;\n",
              "    fill: var(--fill-color);\n",
              "    height: 32px;\n",
              "    padding: 0;\n",
              "    width: 32px;\n",
              "  }\n",
              "\n",
              "  .colab-df-quickchart:hover {\n",
              "    background-color: var(--hover-bg-color);\n",
              "    box-shadow: 0 1px 2px rgba(60, 64, 67, 0.3), 0 1px 3px 1px rgba(60, 64, 67, 0.15);\n",
              "    fill: var(--button-hover-fill-color);\n",
              "  }\n",
              "\n",
              "  .colab-df-quickchart-complete:disabled,\n",
              "  .colab-df-quickchart-complete:disabled:hover {\n",
              "    background-color: var(--disabled-bg-color);\n",
              "    fill: var(--disabled-fill-color);\n",
              "    box-shadow: none;\n",
              "  }\n",
              "\n",
              "  .colab-df-spinner {\n",
              "    border: 2px solid var(--fill-color);\n",
              "    border-color: transparent;\n",
              "    border-bottom-color: var(--fill-color);\n",
              "    animation:\n",
              "      spin 1s steps(1) infinite;\n",
              "  }\n",
              "\n",
              "  @keyframes spin {\n",
              "    0% {\n",
              "      border-color: transparent;\n",
              "      border-bottom-color: var(--fill-color);\n",
              "      border-left-color: var(--fill-color);\n",
              "    }\n",
              "    20% {\n",
              "      border-color: transparent;\n",
              "      border-left-color: var(--fill-color);\n",
              "      border-top-color: var(--fill-color);\n",
              "    }\n",
              "    30% {\n",
              "      border-color: transparent;\n",
              "      border-left-color: var(--fill-color);\n",
              "      border-top-color: var(--fill-color);\n",
              "      border-right-color: var(--fill-color);\n",
              "    }\n",
              "    40% {\n",
              "      border-color: transparent;\n",
              "      border-right-color: var(--fill-color);\n",
              "      border-top-color: var(--fill-color);\n",
              "    }\n",
              "    60% {\n",
              "      border-color: transparent;\n",
              "      border-right-color: var(--fill-color);\n",
              "    }\n",
              "    80% {\n",
              "      border-color: transparent;\n",
              "      border-right-color: var(--fill-color);\n",
              "      border-bottom-color: var(--fill-color);\n",
              "    }\n",
              "    90% {\n",
              "      border-color: transparent;\n",
              "      border-bottom-color: var(--fill-color);\n",
              "    }\n",
              "  }\n",
              "</style>\n",
              "\n",
              "  <script>\n",
              "    async function quickchart(key) {\n",
              "      const quickchartButtonEl =\n",
              "        document.querySelector('#' + key + ' button');\n",
              "      quickchartButtonEl.disabled = true;  // To prevent multiple clicks.\n",
              "      quickchartButtonEl.classList.add('colab-df-spinner');\n",
              "      try {\n",
              "        const charts = await google.colab.kernel.invokeFunction(\n",
              "            'suggestCharts', [key], {});\n",
              "      } catch (error) {\n",
              "        console.error('Error during call to suggestCharts:', error);\n",
              "      }\n",
              "      quickchartButtonEl.classList.remove('colab-df-spinner');\n",
              "      quickchartButtonEl.classList.add('colab-df-quickchart-complete');\n",
              "    }\n",
              "    (() => {\n",
              "      let quickchartButtonEl =\n",
              "        document.querySelector('#df-aa494072-167a-4405-9e81-545f579caa89 button');\n",
              "      quickchartButtonEl.style.display =\n",
              "        google.colab.kernel.accessAllowed ? 'block' : 'none';\n",
              "    })();\n",
              "  </script>\n",
              "</div>\n",
              "\n",
              "  <div id=\"id_15abd8b9-9dce-439d-b63b-01874285539b\">\n",
              "    <style>\n",
              "      .colab-df-generate {\n",
              "        background-color: #E8F0FE;\n",
              "        border: none;\n",
              "        border-radius: 50%;\n",
              "        cursor: pointer;\n",
              "        display: none;\n",
              "        fill: #1967D2;\n",
              "        height: 32px;\n",
              "        padding: 0 0 0 0;\n",
              "        width: 32px;\n",
              "      }\n",
              "\n",
              "      .colab-df-generate:hover {\n",
              "        background-color: #E2EBFA;\n",
              "        box-shadow: 0px 1px 2px rgba(60, 64, 67, 0.3), 0px 1px 3px 1px rgba(60, 64, 67, 0.15);\n",
              "        fill: #174EA6;\n",
              "      }\n",
              "\n",
              "      [theme=dark] .colab-df-generate {\n",
              "        background-color: #3B4455;\n",
              "        fill: #D2E3FC;\n",
              "      }\n",
              "\n",
              "      [theme=dark] .colab-df-generate:hover {\n",
              "        background-color: #434B5C;\n",
              "        box-shadow: 0px 1px 3px 1px rgba(0, 0, 0, 0.15);\n",
              "        filter: drop-shadow(0px 1px 2px rgba(0, 0, 0, 0.3));\n",
              "        fill: #FFFFFF;\n",
              "      }\n",
              "    </style>\n",
              "    <button class=\"colab-df-generate\" onclick=\"generateWithVariable('df_safety')\"\n",
              "            title=\"Generate code using this dataframe.\"\n",
              "            style=\"display:none;\">\n",
              "\n",
              "  <svg xmlns=\"http://www.w3.org/2000/svg\" height=\"24px\"viewBox=\"0 0 24 24\"\n",
              "       width=\"24px\">\n",
              "    <path d=\"M7,19H8.4L18.45,9,17,7.55,7,17.6ZM5,21V16.75L18.45,3.32a2,2,0,0,1,2.83,0l1.4,1.43a1.91,1.91,0,0,1,.58,1.4,1.91,1.91,0,0,1-.58,1.4L9.25,21ZM18.45,9,17,7.55Zm-12,3A5.31,5.31,0,0,0,4.9,8.1,5.31,5.31,0,0,0,1,6.5,5.31,5.31,0,0,0,4.9,4.9,5.31,5.31,0,0,0,6.5,1,5.31,5.31,0,0,0,8.1,4.9,5.31,5.31,0,0,0,12,6.5,5.46,5.46,0,0,0,6.5,12Z\"/>\n",
              "  </svg>\n",
              "    </button>\n",
              "    <script>\n",
              "      (() => {\n",
              "      const buttonEl =\n",
              "        document.querySelector('#id_15abd8b9-9dce-439d-b63b-01874285539b button.colab-df-generate');\n",
              "      buttonEl.style.display =\n",
              "        google.colab.kernel.accessAllowed ? 'block' : 'none';\n",
              "\n",
              "      buttonEl.onclick = () => {\n",
              "        google.colab.notebook.generateWithVariable('df_safety');\n",
              "      }\n",
              "      })();\n",
              "    </script>\n",
              "  </div>\n",
              "\n",
              "    </div>\n",
              "  </div>\n"
            ],
            "application/vnd.google.colaboratory.intrinsic+json": {
              "type": "dataframe",
              "variable_name": "df_safety",
              "summary": "{\n  \"name\": \"df_safety\",\n  \"rows\": 4342,\n  \"fields\": [\n    {\n      \"column\": \"unique_id\",\n      \"properties\": {\n        \"dtype\": \"string\",\n        \"num_unique_values\": 4342,\n        \"samples\": [\n          \"c642484a-458a-44fc-99ff-9330c660a9a6\",\n          \"b5fe6c48-9e7c-4c75-b8b0-22e7fa3e8662\",\n          \"2d373ff9-ec48-4f5f-87b3-4ef76e8c51b9\"\n        ],\n        \"semantic_type\": \"\",\n        \"description\": \"\"\n      }\n    },\n    {\n      \"column\": \"date\",\n      \"properties\": {\n        \"dtype\": \"object\",\n        \"num_unique_values\": 28,\n        \"samples\": [\n          \"2024-05-06\",\n          \"2024-04-30\",\n          \"2024-05-07\"\n        ],\n        \"semantic_type\": \"\",\n        \"description\": \"\"\n      }\n    },\n    {\n      \"column\": \"name\",\n      \"properties\": {\n        \"dtype\": \"number\",\n        \"std\": 176,\n        \"min\": 1,\n        \"max\": 2216,\n        \"num_unique_values\": 155,\n        \"samples\": [\n          2101,\n          2196,\n          2051\n        ],\n        \"semantic_type\": \"\",\n        \"description\": \"\"\n      }\n    },\n    {\n      \"column\": \"maxSpeed\",\n      \"properties\": {\n        \"dtype\": \"number\",\n        \"std\": 51,\n        \"min\": 0,\n        \"max\": 153,\n        \"num_unique_values\": 85,\n        \"samples\": [\n          53,\n          112,\n          11\n        ],\n        \"semantic_type\": \"\",\n        \"description\": \"\"\n      }\n    },\n    {\n      \"column\": \"hard_acceleration\",\n      \"properties\": {\n        \"dtype\": \"number\",\n        \"std\": 4,\n        \"min\": 0,\n        \"max\": 80,\n        \"num_unique_values\": 44,\n        \"samples\": [\n          12,\n          15,\n          26\n        ],\n        \"semantic_type\": \"\",\n        \"description\": \"\"\n      }\n    },\n    {\n      \"column\": \"harsh_braking\",\n      \"properties\": {\n        \"dtype\": \"number\",\n        \"std\": 5,\n        \"min\": 0,\n        \"max\": 84,\n        \"num_unique_values\": 50,\n        \"samples\": [\n          15,\n          50,\n          74\n        ],\n        \"semantic_type\": \"\",\n        \"description\": \"\"\n      }\n    },\n    {\n      \"column\": \"harsh_cornering\",\n      \"properties\": {\n        \"dtype\": \"number\",\n        \"std\": 0,\n        \"min\": 0,\n        \"max\": 24,\n        \"num_unique_values\": 15,\n        \"samples\": [\n          14,\n          8,\n          0\n        ],\n        \"semantic_type\": \"\",\n        \"description\": \"\"\n      }\n    },\n    {\n      \"column\": \"seat_belt\",\n      \"properties\": {\n        \"dtype\": \"number\",\n        \"std\": 2,\n        \"min\": 0,\n        \"max\": 58,\n        \"num_unique_values\": 30,\n        \"samples\": [\n          16,\n          14,\n          28\n        ],\n        \"semantic_type\": \"\",\n        \"description\": \"\"\n      }\n    },\n    {\n      \"column\": \"speeding\",\n      \"properties\": {\n        \"dtype\": \"number\",\n        \"std\": 13,\n        \"min\": 0,\n        \"max\": 131,\n        \"num_unique_values\": 82,\n        \"samples\": [\n          24,\n          0,\n          18\n        ],\n        \"semantic_type\": \"\",\n        \"description\": \"\"\n      }\n    },\n    {\n      \"column\": \"excessive_speeding\",\n      \"properties\": {\n        \"dtype\": \"number\",\n        \"std\": 4,\n        \"min\": 0,\n        \"max\": 75,\n        \"num_unique_values\": 46,\n        \"samples\": [\n          22,\n          29,\n          12\n        ],\n        \"semantic_type\": \"\",\n        \"description\": \"\"\n      }\n    }\n  ]\n}"
            }
          },
          "metadata": {},
          "execution_count": 2
        }
      ]
    },
    {
      "cell_type": "markdown",
      "source": [
        "## Se elige el modelo XGBClassifier"
      ],
      "metadata": {
        "id": "d3ImS6aVYuHk"
      }
    },
    {
      "cell_type": "code",
      "source": [
        "\n",
        "import pandas as pd\n",
        "from sklearn.model_selection import train_test_split, GridSearchCV\n",
        "from sklearn.preprocessing import StandardScaler\n",
        "from sklearn.linear_model import LogisticRegression\n",
        "from sklearn.tree import DecisionTreeClassifier\n",
        "from sklearn.ensemble import RandomForestClassifier\n",
        "from sklearn.svm import SVC\n",
        "from sklearn.neighbors import KNeighborsClassifier\n",
        "from sklearn.naive_bayes import GaussianNB\n",
        "from sklearn.neural_network import MLPClassifier\n",
        "from xgboost import XGBClassifier\n",
        "from sklearn.metrics import accuracy_score, f1_score"
      ],
      "metadata": {
        "id": "gsbq4nF9Y1CH"
      },
      "execution_count": 4,
      "outputs": []
    },
    {
      "cell_type": "code",
      "source": [
        "# Cargar el dataset\n",
        "df = df_safety\n",
        "# Eliminar columnas innecesarias\n",
        "df_limpio = df.drop(columns=['unique_id', 'date', 'name'])\n",
        "\n",
        "# Crear una variable de riesgo basada en comportamientos de conducción\n",
        "df_limpio['puntuacion_riesgo'] = df_limpio[['hard_acceleration', 'harsh_braking', 'harsh_cornering', 'seat_belt', 'speeding', 'excessive_speeding']].sum(axis=1)\n"
      ],
      "metadata": {
        "id": "D-9BZ2CDY-wy"
      },
      "execution_count": 6,
      "outputs": []
    },
    {
      "cell_type": "markdown",
      "source": [
        "## Se define la funcion para el conductor."
      ],
      "metadata": {
        "id": "Qah_bPOWZEbR"
      }
    },
    {
      "cell_type": "code",
      "source": [
        "# Definir la variable objetivo basada en la puntuación de riesgo\n",
        "def clasificar_conductor(puntuacion_riesgo):\n",
        "    if puntuacion_riesgo == 0:\n",
        "        return 0  # Buen conductor\n",
        "    elif puntuacion_riesgo <= 3:\n",
        "        return 1  # Conductor regular\n",
        "    else:\n",
        "        return 2  # Mal conductor\n",
        "\n",
        "df_limpio['clase_conductor'] = df_limpio['puntuacion_riesgo'].apply(clasificar_conductor)\n",
        "\n",
        "# Eliminar la columna de puntuación de riesgo\n",
        "df_limpio = df_limpio.drop(columns=['puntuacion_riesgo'])"
      ],
      "metadata": {
        "id": "eVEOvCRaZIZ_"
      },
      "execution_count": 7,
      "outputs": []
    },
    {
      "cell_type": "markdown",
      "source": [
        "## Se definen caracteristicas y objetivos"
      ],
      "metadata": {
        "id": "4mQ77GcjZOIT"
      }
    },
    {
      "cell_type": "code",
      "source": [
        "# Definir características y objetivo\n",
        "X = df_limpio.drop(columns=['clase_conductor'])\n",
        "y = df_limpio['clase_conductor']"
      ],
      "metadata": {
        "id": "RXR5w-WiZSgE"
      },
      "execution_count": 8,
      "outputs": []
    },
    {
      "cell_type": "markdown",
      "source": [
        "## Se dividen los datos de prueba y validacion"
      ],
      "metadata": {
        "id": "h1VPaFZ5ZbKR"
      }
    },
    {
      "cell_type": "code",
      "source": [
        "X_train, X_test, y_train, y_test = train_test_split(X, y, test_size=0.2, random_state=42, stratify=y)"
      ],
      "metadata": {
        "id": "Y4OMf20eZgij"
      },
      "execution_count": 9,
      "outputs": []
    },
    {
      "cell_type": "markdown",
      "source": [
        "## Se normalizan los datos"
      ],
      "metadata": {
        "id": "ilwZxr-dZmPv"
      }
    },
    {
      "cell_type": "code",
      "source": [
        "# Normalizar las características numéricas\n",
        "escalador = StandardScaler()\n",
        "X_train_escalado = escalador.fit_transform(X_train)\n",
        "X_test_escalado = escalador.transform(X_test)"
      ],
      "metadata": {
        "id": "gJMc1AuDZqE9"
      },
      "execution_count": 10,
      "outputs": []
    },
    {
      "cell_type": "markdown",
      "source": [
        "### Se defininen los modelos a evalular los cuales son El primero que es una regresion logistica como se puede ver en la primera fase y el segundo que es el modelo que se elige"
      ],
      "metadata": {
        "id": "FKsLKgWtZ3Nh"
      }
    },
    {
      "cell_type": "code",
      "source": [
        "# Definir los modelos\n",
        "modelos = {\n",
        "    'Regresión Logística': LogisticRegression(max_iter=1000, random_state=42, multi_class='ovr'),\n",
        "    'XGBClassifier': XGBClassifier(use_label_encoder=False, eval_metric='mlogloss', random_state=42),\n",
        "}"
      ],
      "metadata": {
        "id": "8iQ4RoqMZvgq"
      },
      "execution_count": 11,
      "outputs": []
    },
    {
      "cell_type": "markdown",
      "source": [
        "## Se entrenan los modelos."
      ],
      "metadata": {
        "id": "tWJ_2bcXaCZs"
      }
    },
    {
      "cell_type": "code",
      "source": [
        " # Entrenar y evaluar los modelos\n",
        "rendimiento_modelos = {}\n",
        "\n",
        "for nombre_modelo, modelo in modelos.items():\n",
        "    modelo.fit(X_train_escalado, y_train)\n",
        "    y_pred = modelo.predict(X_test_escalado)\n",
        "    precision = accuracy_score(y_test, y_pred)\n",
        "    f1 = f1_score(y_test, y_pred, average='weighted')\n",
        "    rendimiento_modelos[nombre_modelo] = {'Precisión': precision, 'F1-Score': f1}\n",
        "\n"
      ],
      "metadata": {
        "id": "cCrrmL0xaOlF"
      },
      "execution_count": 12,
      "outputs": []
    },
    {
      "cell_type": "markdown",
      "source": [
        "### Se muestran los resultados de los entrenamientos de los modelos"
      ],
      "metadata": {
        "id": "Rwuu65pqagrJ"
      }
    },
    {
      "cell_type": "code",
      "source": [
        "# Convertir los resultados a un DataFrame para la comparación\n",
        "rendimiento_df = pd.DataFrame(rendimiento_modelos).T\n",
        "rendimiento_df = rendimiento_df.sort_values(by='F1-Score', ascending=False)\n",
        "\n",
        "print(\"Comparación del rendimiento de los modelos:\")\n",
        "print(rendimiento_df)"
      ],
      "metadata": {
        "colab": {
          "base_uri": "https://localhost:8080/"
        },
        "id": "86tn-uAVaQsn",
        "outputId": "2980002c-4c54-4022-cb21-813f78c06df5"
      },
      "execution_count": 13,
      "outputs": [
        {
          "output_type": "stream",
          "name": "stdout",
          "text": [
            "Comparación del rendimiento de los modelos:\n",
            "                     Precisión  F1-Score\n",
            "XGBClassifier         0.994246  0.994266\n",
            "Regresión Logística   0.947066  0.945769\n"
          ]
        }
      ]
    },
    {
      "cell_type": "markdown",
      "source": [
        "## Se ajustan los hiperametros de los modelos"
      ],
      "metadata": {
        "id": "y6U1O0XxbDEP"
      }
    },
    {
      "cell_type": "code",
      "source": [
        "# Ajuste de Hiperparámetros para los Mejores Modelos\n",
        "\n",
        "# XGBClassifier\n",
        "param_grid_xgb = {\n",
        "    'n_estimators': [100, 200, 300],\n",
        "    'learning_rate': [0.01, 0.1, 0.2],\n",
        "    'max_depth': [3, 5, 7]\n",
        "}\n",
        "\n",
        "xgb = XGBClassifier(use_label_encoder=False, eval_metric='mlogloss', random_state=42)\n",
        "grid_search_xgb = GridSearchCV(estimator=xgb, param_grid=param_grid_xgb, scoring='f1_weighted', cv=5, n_jobs=-1)\n",
        "grid_search_xgb.fit(X_train_escalado, y_train)\n",
        "\n",
        "# Mejor modelo XGB\n",
        "mejor_xgb = grid_search_xgb.best_estimator_\n",
        "mejor_xgb_pred = mejor_xgb.predict(X_test_escalado)\n",
        "mejor_xgb_f1 = f1_score(y_test, mejor_xgb_pred, average='weighted')\n",
        "print(\"Mejor F1-Score para XGBClassifier:\", mejor_xgb_f1)\n"
      ],
      "metadata": {
        "colab": {
          "base_uri": "https://localhost:8080/"
        },
        "id": "bpAP-a5MbH6V",
        "outputId": "d2fc0ece-eb0a-4ca1-c81a-df8c805161ab"
      },
      "execution_count": 14,
      "outputs": [
        {
          "output_type": "stream",
          "name": "stdout",
          "text": [
            "Mejor F1-Score para XGBClassifier: 0.9953639969666919\n"
          ]
        }
      ]
    },
    {
      "cell_type": "markdown",
      "source": [
        "## Grafica Prediccion vs Resultado"
      ],
      "metadata": {
        "id": "6Df4PIYFc7FP"
      }
    },
    {
      "cell_type": "code",
      "source": [
        "# prompt: puedes generar una grafica donde se vea la prediccion y el resultado del modelo  XGBClassifier y hacer el grafico y poner la explicacion de ese grafico\n",
        "\n",
        "import matplotlib.pyplot as plt\n",
        "\n",
        "# Obtener las predicciones del modelo\n",
        "y_pred = mejor_xgb.predict(X_test_escalado)\n",
        "\n",
        "# Crear el gráfico\n",
        "plt.figure(figsize=(8, 6))\n",
        "plt.scatter(y_test, y_pred)\n",
        "\n",
        "# Añadir líneas de referencia\n",
        "plt.plot([0, 1, 2], [0, 1, 2], 'k--', linewidth=2)\n",
        "\n",
        "# Añadir etiquetas y título\n",
        "plt.xlabel('Clase real')\n",
        "plt.ylabel('Clase predicha')\n",
        "plt.title('Predicción vs. Resultado (XGBClassifier)')\n",
        "\n",
        "# Mostrar el gráfico\n",
        "plt.show()\n",
        "\n"
      ],
      "metadata": {
        "colab": {
          "base_uri": "https://localhost:8080/",
          "height": 564
        },
        "id": "oWgkv1v0bp_O",
        "outputId": "72dd5b0e-e41f-432d-f699-7798662e70ee"
      },
      "execution_count": 19,
      "outputs": [
        {
          "output_type": "display_data",
          "data": {
            "text/plain": [
              "<Figure size 800x600 with 1 Axes>"
            ],
            "image/png": "[encoded data removed]"
          },
          "metadata": {}
        }
      ]
    },
    {
      "cell_type": "markdown",
      "source": [
        "### Explicación del gráfico\n",
        "### - Los puntos en la diagonal representan las predicciones correctas.\n",
        "### - Los puntos fuera de la diagonal representan las predicciones incorrectas.\n",
        "### - La línea punteada negra representa la línea de referencia, donde las predicciones son iguales a los valores reales.\n",
        "### - El gráfico muestra que el modelo XGBClassifier es capaz de predecir correctamente la clase de la mayoría de los conductores.\n"
      ],
      "metadata": {
        "id": "V5fcWU5mdBXx"
      }
    }
  ]
}